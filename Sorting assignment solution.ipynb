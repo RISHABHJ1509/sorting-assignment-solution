{
 "cells": [
  {
   "cell_type": "code",
   "execution_count": 2,
   "id": "0c02b584",
   "metadata": {},
   "outputs": [
    {
     "name": "stdout",
     "output_type": "stream",
     "text": [
      "Most frequent element: 5\n"
     ]
    }
   ],
   "source": [
    "#Problem 1.Given an array of n numbers, give an algorithm which gives the element appearing maximum number of times?\n",
    "def most_frequent_element(arr):\n",
    "    freq = {}\n",
    "    max_freq = 0\n",
    "    most_frequent = None\n",
    "\n",
    "    for num in arr:\n",
    "        if num in freq:\n",
    "            freq[num] += 1\n",
    "        else:\n",
    "            freq[num] = 1\n",
    "\n",
    "        if freq[num] > max_freq:\n",
    "            max_freq = freq[num]\n",
    "            most_frequent = num\n",
    "        elif freq[num] == max_freq and num < most_frequent:\n",
    "            most_frequent = num\n",
    "\n",
    "    return most_frequent\n",
    "\n",
    "# Example usage:\n",
    "array = [1, 3, 2, 2, 1, 2, 4, 1, 2, 2,2,2,5,5,5,5,5,5,5,5,5,5,5,5,5]\n",
    "result = most_frequent_element(array)\n",
    "print(\"Most frequent element:\", result)"
   ]
  },
  {
   "cell_type": "code",
   "execution_count": 2,
   "id": "1ae500ec",
   "metadata": {},
   "outputs": [
    {
     "name": "stdout",
     "output_type": "stream",
     "text": [
      "The missing number is: 5\n"
     ]
    }
   ],
   "source": [
    "'''We are given a list of n-1 integers and these integers are in the range of 1 to n . There are no\n",
    "duplicates in the list. One of the integers is missing in the list. Give an algorithm to find that element Ex:\n",
    "[1,2,4,6,3,7,8] 5 is the missing num.'''\n",
    "def find_missing_number(nums):\n",
    "    n = len(nums) + 1  # Since one number is missing\n",
    "    expected_sum = (n * (n + 1)) // 2\n",
    "    actual_sum = sum(nums)\n",
    "    missing_number = expected_sum - actual_sum\n",
    "    return missing_number\n",
    "\n",
    "\n",
    "lst = [1, 2, 4, 6, 3, 7, 8]\n",
    "missing = find_missing_number(lst)\n",
    "print(f\"The missing number is: {missing}\")\n"
   ]
  },
  {
   "cell_type": "code",
   "execution_count": 3,
   "id": "d88e8279",
   "metadata": {},
   "outputs": [
    {
     "name": "stdout",
     "output_type": "stream",
     "text": [
      "The number occurring odd number of times is: 3\n"
     ]
    }
   ],
   "source": [
    "'''Problem 3 : Given an array of n positive numbers. All numbers occurs even number of times except 1 which\n",
    "occurs odd number of times. Find that number in O(n) time and O(1) space. Ex: [1,2,3,2,3,1,3]. 3 is repeats odd times.'''\n",
    "def find_odd_occurrence(nums):\n",
    "    result = 0\n",
    "    for num in nums:\n",
    "        result ^= num\n",
    "    return result\n",
    "\n",
    "\n",
    "arr = [1, 2, 3, 2, 3, 1, 3]\n",
    "odd_occurrence = find_odd_occurrence(arr)\n",
    "print(f\"The number occurring odd number of times is: {odd_occurrence}\")"
   ]
  },
  {
   "cell_type": "code",
   "execution_count": 6,
   "id": "7b99a6b3",
   "metadata": {},
   "outputs": [
    {
     "name": "stdout",
     "output_type": "stream",
     "text": [
      "The pair with sum 12 is: 2 and 10\n"
     ]
    }
   ],
   "source": [
    "#Problem 4 : Given an array of n elements. Find two elements in the array such that their sum is equal to given element K.\n",
    "def find_pair_with_sum(arr, K):\n",
    "    elements_set = set()\n",
    "    for num in arr:\n",
    "        diff = K - num\n",
    "        if diff in elements_set:\n",
    "            return num, diff\n",
    "        elements_set.add(num)\n",
    "    return None  # If no such pair is found\n",
    "\n",
    "# Example usage\n",
    "arr = [1, 4, 7, 10, 2, 5]\n",
    "target_sum = 12\n",
    "result = find_pair_with_sum(arr, target_sum)\n",
    "\n",
    "if result:\n",
    "    print(f\"The pair with sum {target_sum} is: {result[0]} and {result[1]}\")\n",
    "else:\n",
    "    print(\"No pair with the given sum exists.\")\n",
    "\n"
   ]
  },
  {
   "cell_type": "code",
   "execution_count": 2,
   "id": "d69f853f",
   "metadata": {},
   "outputs": [
    {
     "name": "stdout",
     "output_type": "stream",
     "text": [
      "Closest pair with sum to zero: (-80, 85)\n"
     ]
    }
   ],
   "source": [
    "'''Problem 5 : Given an array of both positive and negative numbers, find two numbers such that their sum is\n",
    "closest to 0. Ex: [ 1 ,60 ,-10, 70, -80,85]. Ans : -80,85.'''\n",
    "def closest_to_zero(arr):\n",
    "    arr_length = len(arr)\n",
    "    if arr_length < 2:\n",
    "        return None  # If the array has less than two elements, return None\n",
    "\n",
    "    min_sum = float('inf')\n",
    "    result = None\n",
    "\n",
    "    for i in range(arr_length):\n",
    "        for j in range(i + 1, arr_length):\n",
    "            current_sum = arr[i] + arr[j]\n",
    "\n",
    "            # Update minimum sum and result if current pair has a smaller sum\n",
    "            if abs(current_sum) < abs(min_sum):\n",
    "                min_sum = current_sum\n",
    "                result = (arr[i], arr[j])\n",
    "\n",
    "    return result\n",
    "\n",
    "# Example usage\n",
    "arr = [1, 60, -10, 70, -80, 85]\n",
    "result = closest_to_zero(arr)\n",
    "print(\"Closest pair with sum to zero:\", result)\n",
    "\n"
   ]
  },
  {
   "cell_type": "code",
   "execution_count": 3,
   "id": "bb3d7557",
   "metadata": {},
   "outputs": [
    {
     "name": "stdout",
     "output_type": "stream",
     "text": [
      "Three elements with sum equal to 22 : [4, 10, 8]\n"
     ]
    }
   ],
   "source": [
    "#Problem 6 : Given an array of n elements . Find three elements such that their sum is equal to the given number.\n",
    "def three_sum(arr, target):\n",
    "    n = len(arr)\n",
    "    result = []\n",
    "\n",
    "    for i in range(n - 2):\n",
    "        for j in range(i + 1, n - 1):\n",
    "            for k in range(j + 1, n):\n",
    "                if arr[i] + arr[j] + arr[k] == target:\n",
    "                    result = [arr[i], arr[j], arr[k]]\n",
    "                    return result\n",
    "\n",
    "    return result  # Empty list if no such triplet is found\n",
    "\n",
    "# Example usage\n",
    "arr = [1, 4, 45, 6, 10, 8]\n",
    "target = 22\n",
    "result = three_sum(arr, target)\n",
    "if result:\n",
    "    print(\"Three elements with sum equal to\", target, \":\", result)\n",
    "else:\n",
    "    print(\"No such triplet found.\")\n",
    "\n"
   ]
  },
  {
   "cell_type": "code",
   "execution_count": 11,
   "id": "0ceec938",
   "metadata": {},
   "outputs": [
    {
     "name": "stdout",
     "output_type": "stream",
     "text": [
      "The triplet satisfying i*i + j*j = k*k is: (3, 4, 5)\n"
     ]
    }
   ],
   "source": [
    "#Problem 7 : Given an array of n elements . Find three elements i, j, k in the array such that i * i + j * j = k*k.\n",
    "\n",
    "\n",
    "def three_sum(arr, target):\n",
    "    n = len(arr)\n",
    "\n",
    "    # Create a dictionary to store complements\n",
    "    complements = {}\n",
    "\n",
    "    for i in range(n - 1):\n",
    "        # Find two elements whose sum is equal to target - arr[i]\n",
    "        current_target = target - arr[i]\n",
    "        seen = set()  # To avoid duplicate triplets\n",
    "\n",
    "        for j in range(i + 1, n):\n",
    "            if current_target - arr[j] in seen:\n",
    "                return [arr[i], current_target - arr[j], arr[j]]\n",
    "            seen.add(arr[j])\n",
    "\n",
    "            # Store complement for future lookups\n",
    "            complement = arr[i] + arr[j]\n",
    "            if complement not in complements:\n",
    "                complements[complement] = (arr[i], arr[j])\n",
    "\n",
    "    return []  # Empty list if no such triplet is found\n",
    "\n",
    "# Example usage\n",
    "arr = [1, 4, 45, 6, 10, 8]\n",
    "target = 22\n",
    "result = three_sum(arr, target)\n",
    "if result:\n",
    "    print(\"Three elements with sum equal to\", target, \":\", result)\n",
    "else:\n",
    "    print(\"No such triplet found.\")\n",
    "\n"
   ]
  },
  {
   "cell_type": "code",
   "execution_count": 12,
   "id": "344de66b",
   "metadata": {},
   "outputs": [
    {
     "name": "stdout",
     "output_type": "stream",
     "text": [
      "The majority element is: 4\n"
     ]
    }
   ],
   "source": [
    "'''Problem 8 : An element is a majority if it appears more than n/2 times. Give an algorithm takes an array of n\n",
    "element as argument and identifies a majority (if it exists).'''\n",
    "def find_majority_element(arr):\n",
    "    candidate = None\n",
    "    count = 0\n",
    "\n",
    "    # Find potential candidate for majority element\n",
    "    for num in arr:\n",
    "        if count == 0:\n",
    "            candidate = num\n",
    "        if num == candidate:\n",
    "            count += 1\n",
    "        else:\n",
    "            count -= 1\n",
    "\n",
    "    # Confirm the candidate occurs more than n/2 times\n",
    "    count = 0\n",
    "    for num in arr:\n",
    "        if num == candidate:\n",
    "            count += 1\n",
    "\n",
    "    if count > len(arr) // 2:\n",
    "        return candidate\n",
    "    else:\n",
    "        return None  # No majority element\n",
    "\n",
    "\n",
    "arr = [3, 3, 4, 2, 4, 4, 2, 4, 4]\n",
    "result = find_majority_element(arr)\n",
    "if result:\n",
    "    print(f\"The majority element is: {result}\")\n",
    "else:\n",
    "    print(\"No majority element found.\")\n"
   ]
  },
  {
   "cell_type": "code",
   "execution_count": 13,
   "id": "6dfdf054",
   "metadata": {},
   "outputs": [
    {
     "name": "stdout",
     "output_type": "stream",
     "text": [
      "The row with the maximum number of zeros is: 1\n"
     ]
    }
   ],
   "source": [
    "#Problem 9 : Given n × n matrix, and in each row all 1’s are followed by 0’s. Find the row with the maximum number of 0’s.\n",
    "def find_row_with_max_zeros(matrix):\n",
    "    rows = len(matrix)\n",
    "    cols = len(matrix[0])\n",
    "    max_zeros = 0\n",
    "    max_zeros_row = -1\n",
    "\n",
    "    for row in range(rows):\n",
    "        left = 0\n",
    "        right = cols - 1\n",
    "        zeros_count = 0\n",
    "\n",
    "        # Binary search to find leftmost occurrence of 0\n",
    "        while left <= right:\n",
    "            mid = left + (right - left) // 2\n",
    "            if matrix[row][mid] == 0:\n",
    "                zeros_count = mid + 1\n",
    "                left = mid + 1\n",
    "            else:\n",
    "                right = mid - 1\n",
    "\n",
    "        if zeros_count > max_zeros:\n",
    "            max_zeros = zeros_count\n",
    "            max_zeros_row = row\n",
    "\n",
    "    return max_zeros_row\n",
    "\n",
    "\n",
    "matrix = [\n",
    "    [1, 1, 1, 0],\n",
    "    [1, 0, 0, 0],\n",
    "    [1, 1, 0, 0],\n",
    "    [1, 1, 1, 1]\n",
    "]\n",
    "\n",
    "result = find_row_with_max_zeros(matrix)\n",
    "print(f\"The row with the maximum number of zeros is: {result}\")\n"
   ]
  },
  {
   "cell_type": "code",
   "execution_count": 15,
   "id": "7f484eea",
   "metadata": {},
   "outputs": [
    {
     "name": "stdout",
     "output_type": "stream",
     "text": [
      "The sorted array is: [0, 0, 0, 0, 0, 1, 1, 1, 1, 1, 2, 2]\n"
     ]
    }
   ],
   "source": [
    "'''Problem 10 : Sort an array of 0’s, 1’s and 2’s [or R’s, G’s and B’s]: Given an array A[] consisting of 0’s, 1’s and\n",
    "2’s, give an algorithm for sorting A[].The algorithm should put all 0’s first, then all 1’s and finally all 2’s at the\n",
    "end. Example Input = {0,1,1,0,1,2,1,2,0,0,0,1}, Output = {0,0,0,0,0,1,1,1,1,1,2,2}'''\n",
    "\n",
    "def sort_array(arr):\n",
    "    low = 0\n",
    "    mid = 0\n",
    "    high = len(arr) - 1\n",
    "\n",
    "    while mid <= high:\n",
    "        if arr[mid] == 0:\n",
    "            arr[low], arr[mid] = arr[mid], arr[low]\n",
    "            low += 1\n",
    "            mid += 1\n",
    "        elif arr[mid] == 1:\n",
    "            mid += 1\n",
    "        else:\n",
    "            arr[mid], arr[high] = arr[high], arr[mid]\n",
    "            high -= 1\n",
    "\n",
    "\n",
    "arr = [0, 1, 1, 0, 1, 2, 1, 2, 0, 0, 0, 1]\n",
    "sort_array(arr)\n",
    "print(\"The sorted array is:\", arr)\n"
   ]
  },
  {
   "cell_type": "code",
   "execution_count": null,
   "id": "9327e8dd",
   "metadata": {},
   "outputs": [],
   "source": []
  },
  {
   "cell_type": "code",
   "execution_count": null,
   "id": "08b227a0",
   "metadata": {},
   "outputs": [],
   "source": []
  },
  {
   "cell_type": "code",
   "execution_count": null,
   "id": "ec46bef6",
   "metadata": {},
   "outputs": [],
   "source": []
  },
  {
   "cell_type": "code",
   "execution_count": null,
   "id": "24cb6697",
   "metadata": {},
   "outputs": [],
   "source": []
  }
 ],
 "metadata": {
  "kernelspec": {
   "display_name": "Python 3 (ipykernel)",
   "language": "python",
   "name": "python3"
  },
  "language_info": {
   "codemirror_mode": {
    "name": "ipython",
    "version": 3
   },
   "file_extension": ".py",
   "mimetype": "text/x-python",
   "name": "python",
   "nbconvert_exporter": "python",
   "pygments_lexer": "ipython3",
   "version": "3.11.4"
  }
 },
 "nbformat": 4,
 "nbformat_minor": 5
}
